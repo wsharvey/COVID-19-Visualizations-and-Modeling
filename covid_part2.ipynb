{
 "cells": [
  {
   "cell_type": "code",
   "execution_count": 1,
   "id": "7742c77f",
   "metadata": {
    "deletable": false,
    "editable": false
   },
   "outputs": [],
   "source": [
    "# Initialize Otter\n",
    "import otter\n",
    "grader = otter.Notebook(\"covid_part2.ipynb\")"
   ]
  },
  {
   "cell_type": "markdown",
   "id": "02b82b09",
   "metadata": {},
   "source": [
    "# Final Project: COVID-19 Dataset\n",
    "## Exploring COVID-19 Data through Modeling\n",
    "## Due Date: Thursday, December 13th, 11:59 PM\n",
    "## Collaboration Policy\n",
    "\n",
    "Data science is a collaborative activity. While you may talk with other groups about\n",
    "the project, we ask that you **write your solutions individually**. If you do\n",
    "discuss the assignments with others outside of your group please **include their names** at the top\n",
    "of your notebook."
   ]
  },
  {
   "cell_type": "markdown",
   "id": "cb908b16",
   "metadata": {},
   "source": [
    "\n",
    "## This Assignment\n",
    "\n",
    "In this final project, we will investigate COVID-19 data over the past year. This data contains information about COVID-19 case counts, mortalities, vaccination rates, and various other metadata that can assist in modeling various aspects of COVID-19.\n",
    "\n",
    "Through this final project, you will demonstrate your experience with:\n",
    "* Data cleaning and EDA using Pandas\n",
    "* Unsupervised and supervised learning techniques\n",
    "* Visualization\n"
   ]
  },
  {
   "cell_type": "markdown",
   "id": "2a2811cb",
   "metadata": {},
   "source": [
    "## Goal\n",
    "\n",
    "Model and analyze the temporal evolution of COVID-19 mortalities or cases using one unsupervised and one supervised technique of your choice. Interpret your models' results through visualizations, and draw insightful conclusions about the modeling of COVID-19 data.\n",
    "\n",
    "Recall that we studied linear and logistic regression, decision trees, random forests as part of supervised learning (with labels) and clustering, PCA as part of unsupervised learning (without labels). You are free to use any methods that you find suitable to answer the problem at hand."
   ]
  },
  {
   "cell_type": "code",
   "execution_count": 2,
   "id": "9c01af05",
   "metadata": {},
   "outputs": [],
   "source": [
    "# Run this cell to set up your notebook\n",
    "import numpy as np\n",
    "from geopy import *\n",
    "import pandas as pd\n",
    "from sklearn.linear_model import LinearRegression\n",
    "from sklearn.model_selection import train_test_split\n",
    "from sklearn.cluster import *\n",
    "import matplotlib.pyplot as plt\n",
    "import seaborn as sns\n",
    "\n",
    "import warnings\n",
    "warnings.filterwarnings(\"ignore\")\n",
    "\n",
    "import plotly.graph_objects as go\n",
    "import plotly.express as px\n",
    "from plotly.subplots import make_subplots\n",
    "from scipy.stats import pearsonr\n",
    "import re\n",
    "\n",
    "cases = pd.read_csv('data/time_series_covid19_confirmed_US.csv') # https://github.com/CSSEGISandData/COVID-19/blob/master/csse_covid_19_data/csse_covid_19_time_series/time_series_covid19_confirmed_US.csv\n",
    "vaccinations = pd.read_csv('data/people_vaccinated_us_timeline.csv') # https://raw.githubusercontent.com/govex/COVID-19/master/data_tables/vaccine_data/us_data/time_series/people_vaccinated_us_timeline.csv\n",
    "counties = pd.read_csv('data/co-est2020.csv', encoding='latin-1') # https://www2.census.gov/programs-surveys/popest/datasets/2010-2020/counties/totals/co-est2020.csv\n",
    "mask_use = pd.read_csv('data/mask-use-by-county.csv') # https://github.com/nytimes/covid-19-data/blob/master/mask-use/mask-use-by-county.csv"
   ]
  },
  {
   "cell_type": "markdown",
   "id": "1f4b18d3",
   "metadata": {},
   "source": [
    "<br/><br/><br/>\n",
    "\n",
    "---\n",
    "\n",
    "<br/><br/><br/>\n",
    "\n",
    "## Data Cleaning (Again!)\n",
    "\n",
    "For this section, please copy over the appropriate answers from your previous notebook submission."
   ]
  },
  {
   "cell_type": "markdown",
   "id": "f4e6efb9",
   "metadata": {
    "deletable": false,
    "editable": false
   },
   "source": [
    "### Part 1: Question 1a\n",
    "\n",
    "Impute the null values in *all* the datasets with zero values or empty strings where appropriate.\n",
    "\n",
    "<!--\n",
    "BEGIN QUESTION\n",
    "name: q1a\n",
    "points: 0\n",
    "-->"
   ]
  },
  {
   "cell_type": "code",
   "execution_count": 3,
   "id": "dd43134a",
   "metadata": {},
   "outputs": [],
   "source": [
    "cases = cases.fillna(0)\n",
    "vaccinations = vaccinations.fillna(0)\n",
    "counties = counties.fillna(0)\n",
    "mask_use = mask_use.fillna(0)"
   ]
  },
  {
   "cell_type": "code",
   "execution_count": 4,
   "id": "f42e23fb",
   "metadata": {
    "deletable": false,
    "editable": false
   },
   "outputs": [
    {
     "data": {
      "text/html": [
       "<p><strong><pre style='display: inline;'>q1a</pre></strong> passed!</p>"
      ],
      "text/plain": [
       "q1a results: All test cases passed!"
      ]
     },
     "execution_count": 4,
     "metadata": {},
     "output_type": "execute_result"
    }
   ],
   "source": [
    "grader.check(\"q1a\")"
   ]
  },
  {
   "cell_type": "markdown",
   "id": "32fdc73c",
   "metadata": {
    "deletable": false,
    "editable": false
   },
   "source": [
    "### Part 1: Question 1d\n",
    "\n",
    "Generate a valid FIPS code for the `counties` table.\n",
    "\n",
    "*Hint*: Refer to [this](https://transition.fcc.gov/oet/info/maps/census/fips/fips.txt) guide on FIPS codes.\n",
    "\n",
    "<!--\n",
    "BEGIN QUESTION\n",
    "name: q1d\n",
    "points: 0\n",
    "-->"
   ]
  },
  {
   "cell_type": "code",
   "execution_count": 5,
   "id": "8869affb",
   "metadata": {},
   "outputs": [
    {
     "data": {
      "text/html": [
       "<div>\n",
       "<style scoped>\n",
       "    .dataframe tbody tr th:only-of-type {\n",
       "        vertical-align: middle;\n",
       "    }\n",
       "\n",
       "    .dataframe tbody tr th {\n",
       "        vertical-align: top;\n",
       "    }\n",
       "\n",
       "    .dataframe thead th {\n",
       "        text-align: right;\n",
       "    }\n",
       "</style>\n",
       "<table border=\"1\" class=\"dataframe\">\n",
       "  <thead>\n",
       "    <tr style=\"text-align: right;\">\n",
       "      <th></th>\n",
       "      <th>SUMLEV</th>\n",
       "      <th>REGION</th>\n",
       "      <th>DIVISION</th>\n",
       "      <th>STATE</th>\n",
       "      <th>COUNTY</th>\n",
       "      <th>STNAME</th>\n",
       "      <th>CTYNAME</th>\n",
       "      <th>CENSUS2010POP</th>\n",
       "      <th>ESTIMATESBASE2010</th>\n",
       "      <th>POPESTIMATE2010</th>\n",
       "      <th>...</th>\n",
       "      <th>POPESTIMATE2013</th>\n",
       "      <th>POPESTIMATE2014</th>\n",
       "      <th>POPESTIMATE2015</th>\n",
       "      <th>POPESTIMATE2016</th>\n",
       "      <th>POPESTIMATE2017</th>\n",
       "      <th>POPESTIMATE2018</th>\n",
       "      <th>POPESTIMATE2019</th>\n",
       "      <th>POPESTIMATE042020</th>\n",
       "      <th>POPESTIMATE2020</th>\n",
       "      <th>FIPS</th>\n",
       "    </tr>\n",
       "  </thead>\n",
       "  <tbody>\n",
       "    <tr>\n",
       "      <th>0</th>\n",
       "      <td>40</td>\n",
       "      <td>3</td>\n",
       "      <td>6</td>\n",
       "      <td>1</td>\n",
       "      <td>0</td>\n",
       "      <td>Alabama</td>\n",
       "      <td>Alabama</td>\n",
       "      <td>4779736</td>\n",
       "      <td>4780118</td>\n",
       "      <td>4785514</td>\n",
       "      <td>...</td>\n",
       "      <td>4831586</td>\n",
       "      <td>4843737</td>\n",
       "      <td>4854803</td>\n",
       "      <td>4866824</td>\n",
       "      <td>4877989</td>\n",
       "      <td>4891628</td>\n",
       "      <td>4907965</td>\n",
       "      <td>4920706</td>\n",
       "      <td>4921532</td>\n",
       "      <td>1000</td>\n",
       "    </tr>\n",
       "    <tr>\n",
       "      <th>1</th>\n",
       "      <td>50</td>\n",
       "      <td>3</td>\n",
       "      <td>6</td>\n",
       "      <td>1</td>\n",
       "      <td>1</td>\n",
       "      <td>Alabama</td>\n",
       "      <td>Autauga County</td>\n",
       "      <td>54571</td>\n",
       "      <td>54582</td>\n",
       "      <td>54761</td>\n",
       "      <td>...</td>\n",
       "      <td>54747</td>\n",
       "      <td>54922</td>\n",
       "      <td>54903</td>\n",
       "      <td>55302</td>\n",
       "      <td>55448</td>\n",
       "      <td>55533</td>\n",
       "      <td>55769</td>\n",
       "      <td>56130</td>\n",
       "      <td>56145</td>\n",
       "      <td>1001</td>\n",
       "    </tr>\n",
       "    <tr>\n",
       "      <th>2</th>\n",
       "      <td>50</td>\n",
       "      <td>3</td>\n",
       "      <td>6</td>\n",
       "      <td>1</td>\n",
       "      <td>3</td>\n",
       "      <td>Alabama</td>\n",
       "      <td>Baldwin County</td>\n",
       "      <td>182265</td>\n",
       "      <td>182263</td>\n",
       "      <td>183121</td>\n",
       "      <td>...</td>\n",
       "      <td>194978</td>\n",
       "      <td>199306</td>\n",
       "      <td>203101</td>\n",
       "      <td>207787</td>\n",
       "      <td>212737</td>\n",
       "      <td>218071</td>\n",
       "      <td>223565</td>\n",
       "      <td>227989</td>\n",
       "      <td>229287</td>\n",
       "      <td>1003</td>\n",
       "    </tr>\n",
       "    <tr>\n",
       "      <th>3</th>\n",
       "      <td>50</td>\n",
       "      <td>3</td>\n",
       "      <td>6</td>\n",
       "      <td>1</td>\n",
       "      <td>5</td>\n",
       "      <td>Alabama</td>\n",
       "      <td>Barbour County</td>\n",
       "      <td>27457</td>\n",
       "      <td>27454</td>\n",
       "      <td>27325</td>\n",
       "      <td>...</td>\n",
       "      <td>26946</td>\n",
       "      <td>26768</td>\n",
       "      <td>26300</td>\n",
       "      <td>25828</td>\n",
       "      <td>25169</td>\n",
       "      <td>24887</td>\n",
       "      <td>24657</td>\n",
       "      <td>24652</td>\n",
       "      <td>24589</td>\n",
       "      <td>1005</td>\n",
       "    </tr>\n",
       "    <tr>\n",
       "      <th>4</th>\n",
       "      <td>50</td>\n",
       "      <td>3</td>\n",
       "      <td>6</td>\n",
       "      <td>1</td>\n",
       "      <td>7</td>\n",
       "      <td>Alabama</td>\n",
       "      <td>Bibb County</td>\n",
       "      <td>22915</td>\n",
       "      <td>22904</td>\n",
       "      <td>22858</td>\n",
       "      <td>...</td>\n",
       "      <td>22510</td>\n",
       "      <td>22541</td>\n",
       "      <td>22553</td>\n",
       "      <td>22590</td>\n",
       "      <td>22532</td>\n",
       "      <td>22300</td>\n",
       "      <td>22313</td>\n",
       "      <td>22199</td>\n",
       "      <td>22136</td>\n",
       "      <td>1007</td>\n",
       "    </tr>\n",
       "  </tbody>\n",
       "</table>\n",
       "<p>5 rows × 22 columns</p>\n",
       "</div>"
      ],
      "text/plain": [
       "   SUMLEV  REGION  DIVISION  STATE  COUNTY   STNAME         CTYNAME  \\\n",
       "0      40       3         6      1       0  Alabama         Alabama   \n",
       "1      50       3         6      1       1  Alabama  Autauga County   \n",
       "2      50       3         6      1       3  Alabama  Baldwin County   \n",
       "3      50       3         6      1       5  Alabama  Barbour County   \n",
       "4      50       3         6      1       7  Alabama     Bibb County   \n",
       "\n",
       "  CENSUS2010POP  ESTIMATESBASE2010  POPESTIMATE2010  ...  POPESTIMATE2013  \\\n",
       "0       4779736            4780118          4785514  ...          4831586   \n",
       "1         54571              54582            54761  ...            54747   \n",
       "2        182265             182263           183121  ...           194978   \n",
       "3         27457              27454            27325  ...            26946   \n",
       "4         22915              22904            22858  ...            22510   \n",
       "\n",
       "   POPESTIMATE2014  POPESTIMATE2015  POPESTIMATE2016  POPESTIMATE2017  \\\n",
       "0          4843737          4854803          4866824          4877989   \n",
       "1            54922            54903            55302            55448   \n",
       "2           199306           203101           207787           212737   \n",
       "3            26768            26300            25828            25169   \n",
       "4            22541            22553            22590            22532   \n",
       "\n",
       "   POPESTIMATE2018  POPESTIMATE2019  POPESTIMATE042020  POPESTIMATE2020  FIPS  \n",
       "0          4891628          4907965            4920706          4921532  1000  \n",
       "1            55533            55769              56130            56145  1001  \n",
       "2           218071           223565             227989           229287  1003  \n",
       "3            24887            24657              24652            24589  1005  \n",
       "4            22300            22313              22199            22136  1007  \n",
       "\n",
       "[5 rows x 22 columns]"
      ]
     },
     "execution_count": 5,
     "metadata": {},
     "output_type": "execute_result"
    }
   ],
   "source": [
    "counties['FIPS'] = (1000 * counties['STATE']) + counties['COUNTY']\n",
    "counties.head()"
   ]
  },
  {
   "cell_type": "code",
   "execution_count": 6,
   "id": "f936214a",
   "metadata": {
    "deletable": false,
    "editable": false
   },
   "outputs": [
    {
     "data": {
      "text/html": [
       "<p><strong><pre style='display: inline;'>q1d</pre></strong> passed!</p>"
      ],
      "text/plain": [
       "q1d results: All test cases passed!"
      ]
     },
     "execution_count": 6,
     "metadata": {},
     "output_type": "execute_result"
    }
   ],
   "source": [
    "grader.check(\"q1d\")"
   ]
  },
  {
   "cell_type": "markdown",
   "id": "5851d0b6",
   "metadata": {
    "deletable": false,
    "editable": false
   },
   "source": [
    "### Part 1: Question 1e\n",
    "\n",
    "Merge the `counties`, `cases`, and `mask_use` tables on an appropriate primary key to generate county-wise data.\n",
    "\n",
    "<!--\n",
    "BEGIN QUESTION\n",
    "name: q1e\n",
    "points: 0\n",
    "-->"
   ]
  },
  {
   "cell_type": "code",
   "execution_count": 7,
   "id": "3730e8a2",
   "metadata": {},
   "outputs": [
    {
     "data": {
      "text/html": [
       "<div>\n",
       "<style scoped>\n",
       "    .dataframe tbody tr th:only-of-type {\n",
       "        vertical-align: middle;\n",
       "    }\n",
       "\n",
       "    .dataframe tbody tr th {\n",
       "        vertical-align: top;\n",
       "    }\n",
       "\n",
       "    .dataframe thead th {\n",
       "        text-align: right;\n",
       "    }\n",
       "</style>\n",
       "<table border=\"1\" class=\"dataframe\">\n",
       "  <thead>\n",
       "    <tr style=\"text-align: right;\">\n",
       "      <th></th>\n",
       "      <th>SUMLEV</th>\n",
       "      <th>REGION</th>\n",
       "      <th>DIVISION</th>\n",
       "      <th>STATE</th>\n",
       "      <th>COUNTY</th>\n",
       "      <th>STNAME</th>\n",
       "      <th>CTYNAME</th>\n",
       "      <th>CENSUS2010POP</th>\n",
       "      <th>ESTIMATESBASE2010</th>\n",
       "      <th>POPESTIMATE2010</th>\n",
       "      <th>...</th>\n",
       "      <th>9/9/21</th>\n",
       "      <th>9/10/21</th>\n",
       "      <th>9/11/21</th>\n",
       "      <th>9/12/21</th>\n",
       "      <th>COUNTYFP</th>\n",
       "      <th>NEVER</th>\n",
       "      <th>RARELY</th>\n",
       "      <th>SOMETIMES</th>\n",
       "      <th>FREQUENTLY</th>\n",
       "      <th>ALWAYS</th>\n",
       "    </tr>\n",
       "  </thead>\n",
       "  <tbody>\n",
       "    <tr>\n",
       "      <th>0</th>\n",
       "      <td>50</td>\n",
       "      <td>3</td>\n",
       "      <td>6</td>\n",
       "      <td>1</td>\n",
       "      <td>1</td>\n",
       "      <td>Alabama</td>\n",
       "      <td>Autauga County</td>\n",
       "      <td>54571</td>\n",
       "      <td>54582</td>\n",
       "      <td>54761</td>\n",
       "      <td>...</td>\n",
       "      <td>9145</td>\n",
       "      <td>9207</td>\n",
       "      <td>9246</td>\n",
       "      <td>9287</td>\n",
       "      <td>1001</td>\n",
       "      <td>0.053</td>\n",
       "      <td>0.074</td>\n",
       "      <td>0.134</td>\n",
       "      <td>0.295</td>\n",
       "      <td>0.444</td>\n",
       "    </tr>\n",
       "    <tr>\n",
       "      <th>1</th>\n",
       "      <td>50</td>\n",
       "      <td>3</td>\n",
       "      <td>6</td>\n",
       "      <td>1</td>\n",
       "      <td>3</td>\n",
       "      <td>Alabama</td>\n",
       "      <td>Baldwin County</td>\n",
       "      <td>182265</td>\n",
       "      <td>182263</td>\n",
       "      <td>183121</td>\n",
       "      <td>...</td>\n",
       "      <td>34536</td>\n",
       "      <td>34726</td>\n",
       "      <td>34872</td>\n",
       "      <td>34950</td>\n",
       "      <td>1003</td>\n",
       "      <td>0.083</td>\n",
       "      <td>0.059</td>\n",
       "      <td>0.098</td>\n",
       "      <td>0.323</td>\n",
       "      <td>0.436</td>\n",
       "    </tr>\n",
       "    <tr>\n",
       "      <th>2</th>\n",
       "      <td>50</td>\n",
       "      <td>3</td>\n",
       "      <td>6</td>\n",
       "      <td>1</td>\n",
       "      <td>5</td>\n",
       "      <td>Alabama</td>\n",
       "      <td>Barbour County</td>\n",
       "      <td>27457</td>\n",
       "      <td>27454</td>\n",
       "      <td>27325</td>\n",
       "      <td>...</td>\n",
       "      <td>3243</td>\n",
       "      <td>3260</td>\n",
       "      <td>3282</td>\n",
       "      <td>3295</td>\n",
       "      <td>1005</td>\n",
       "      <td>0.067</td>\n",
       "      <td>0.121</td>\n",
       "      <td>0.120</td>\n",
       "      <td>0.201</td>\n",
       "      <td>0.491</td>\n",
       "    </tr>\n",
       "    <tr>\n",
       "      <th>3</th>\n",
       "      <td>50</td>\n",
       "      <td>3</td>\n",
       "      <td>6</td>\n",
       "      <td>1</td>\n",
       "      <td>7</td>\n",
       "      <td>Alabama</td>\n",
       "      <td>Bibb County</td>\n",
       "      <td>22915</td>\n",
       "      <td>22904</td>\n",
       "      <td>22858</td>\n",
       "      <td>...</td>\n",
       "      <td>3727</td>\n",
       "      <td>3752</td>\n",
       "      <td>3778</td>\n",
       "      <td>3795</td>\n",
       "      <td>1007</td>\n",
       "      <td>0.020</td>\n",
       "      <td>0.034</td>\n",
       "      <td>0.096</td>\n",
       "      <td>0.278</td>\n",
       "      <td>0.572</td>\n",
       "    </tr>\n",
       "    <tr>\n",
       "      <th>4</th>\n",
       "      <td>50</td>\n",
       "      <td>3</td>\n",
       "      <td>6</td>\n",
       "      <td>1</td>\n",
       "      <td>9</td>\n",
       "      <td>Alabama</td>\n",
       "      <td>Blount County</td>\n",
       "      <td>57322</td>\n",
       "      <td>57322</td>\n",
       "      <td>57372</td>\n",
       "      <td>...</td>\n",
       "      <td>9048</td>\n",
       "      <td>9095</td>\n",
       "      <td>9161</td>\n",
       "      <td>9176</td>\n",
       "      <td>1009</td>\n",
       "      <td>0.053</td>\n",
       "      <td>0.114</td>\n",
       "      <td>0.180</td>\n",
       "      <td>0.194</td>\n",
       "      <td>0.459</td>\n",
       "    </tr>\n",
       "    <tr>\n",
       "      <th>...</th>\n",
       "      <td>...</td>\n",
       "      <td>...</td>\n",
       "      <td>...</td>\n",
       "      <td>...</td>\n",
       "      <td>...</td>\n",
       "      <td>...</td>\n",
       "      <td>...</td>\n",
       "      <td>...</td>\n",
       "      <td>...</td>\n",
       "      <td>...</td>\n",
       "      <td>...</td>\n",
       "      <td>...</td>\n",
       "      <td>...</td>\n",
       "      <td>...</td>\n",
       "      <td>...</td>\n",
       "      <td>...</td>\n",
       "      <td>...</td>\n",
       "      <td>...</td>\n",
       "      <td>...</td>\n",
       "      <td>...</td>\n",
       "      <td>...</td>\n",
       "    </tr>\n",
       "    <tr>\n",
       "      <th>3136</th>\n",
       "      <td>50</td>\n",
       "      <td>4</td>\n",
       "      <td>8</td>\n",
       "      <td>56</td>\n",
       "      <td>37</td>\n",
       "      <td>Wyoming</td>\n",
       "      <td>Sweetwater County</td>\n",
       "      <td>43806</td>\n",
       "      <td>43806</td>\n",
       "      <td>43580</td>\n",
       "      <td>...</td>\n",
       "      <td>6034</td>\n",
       "      <td>6111</td>\n",
       "      <td>6111</td>\n",
       "      <td>6111</td>\n",
       "      <td>56037</td>\n",
       "      <td>0.061</td>\n",
       "      <td>0.295</td>\n",
       "      <td>0.230</td>\n",
       "      <td>0.146</td>\n",
       "      <td>0.268</td>\n",
       "    </tr>\n",
       "    <tr>\n",
       "      <th>3137</th>\n",
       "      <td>50</td>\n",
       "      <td>4</td>\n",
       "      <td>8</td>\n",
       "      <td>56</td>\n",
       "      <td>39</td>\n",
       "      <td>Wyoming</td>\n",
       "      <td>Teton County</td>\n",
       "      <td>21294</td>\n",
       "      <td>21298</td>\n",
       "      <td>21298</td>\n",
       "      <td>...</td>\n",
       "      <td>4587</td>\n",
       "      <td>4611</td>\n",
       "      <td>4611</td>\n",
       "      <td>4611</td>\n",
       "      <td>56039</td>\n",
       "      <td>0.095</td>\n",
       "      <td>0.157</td>\n",
       "      <td>0.160</td>\n",
       "      <td>0.247</td>\n",
       "      <td>0.340</td>\n",
       "    </tr>\n",
       "    <tr>\n",
       "      <th>3138</th>\n",
       "      <td>50</td>\n",
       "      <td>4</td>\n",
       "      <td>8</td>\n",
       "      <td>56</td>\n",
       "      <td>41</td>\n",
       "      <td>Wyoming</td>\n",
       "      <td>Uinta County</td>\n",
       "      <td>21118</td>\n",
       "      <td>21121</td>\n",
       "      <td>21090</td>\n",
       "      <td>...</td>\n",
       "      <td>3168</td>\n",
       "      <td>3204</td>\n",
       "      <td>3204</td>\n",
       "      <td>3204</td>\n",
       "      <td>56041</td>\n",
       "      <td>0.098</td>\n",
       "      <td>0.278</td>\n",
       "      <td>0.154</td>\n",
       "      <td>0.207</td>\n",
       "      <td>0.264</td>\n",
       "    </tr>\n",
       "    <tr>\n",
       "      <th>3139</th>\n",
       "      <td>50</td>\n",
       "      <td>4</td>\n",
       "      <td>8</td>\n",
       "      <td>56</td>\n",
       "      <td>43</td>\n",
       "      <td>Wyoming</td>\n",
       "      <td>Washakie County</td>\n",
       "      <td>8533</td>\n",
       "      <td>8528</td>\n",
       "      <td>8531</td>\n",
       "      <td>...</td>\n",
       "      <td>1111</td>\n",
       "      <td>1120</td>\n",
       "      <td>1120</td>\n",
       "      <td>1120</td>\n",
       "      <td>56043</td>\n",
       "      <td>0.204</td>\n",
       "      <td>0.155</td>\n",
       "      <td>0.069</td>\n",
       "      <td>0.285</td>\n",
       "      <td>0.287</td>\n",
       "    </tr>\n",
       "    <tr>\n",
       "      <th>3140</th>\n",
       "      <td>50</td>\n",
       "      <td>4</td>\n",
       "      <td>8</td>\n",
       "      <td>56</td>\n",
       "      <td>45</td>\n",
       "      <td>Wyoming</td>\n",
       "      <td>Weston County</td>\n",
       "      <td>7208</td>\n",
       "      <td>7208</td>\n",
       "      <td>7198</td>\n",
       "      <td>...</td>\n",
       "      <td>824</td>\n",
       "      <td>829</td>\n",
       "      <td>829</td>\n",
       "      <td>829</td>\n",
       "      <td>56045</td>\n",
       "      <td>0.142</td>\n",
       "      <td>0.129</td>\n",
       "      <td>0.148</td>\n",
       "      <td>0.207</td>\n",
       "      <td>0.374</td>\n",
       "    </tr>\n",
       "  </tbody>\n",
       "</table>\n",
       "<p>3141 rows × 638 columns</p>\n",
       "</div>"
      ],
      "text/plain": [
       "      SUMLEV  REGION  DIVISION  STATE  COUNTY   STNAME            CTYNAME  \\\n",
       "0         50       3         6      1       1  Alabama     Autauga County   \n",
       "1         50       3         6      1       3  Alabama     Baldwin County   \n",
       "2         50       3         6      1       5  Alabama     Barbour County   \n",
       "3         50       3         6      1       7  Alabama        Bibb County   \n",
       "4         50       3         6      1       9  Alabama      Blount County   \n",
       "...      ...     ...       ...    ...     ...      ...                ...   \n",
       "3136      50       4         8     56      37  Wyoming  Sweetwater County   \n",
       "3137      50       4         8     56      39  Wyoming       Teton County   \n",
       "3138      50       4         8     56      41  Wyoming       Uinta County   \n",
       "3139      50       4         8     56      43  Wyoming    Washakie County   \n",
       "3140      50       4         8     56      45  Wyoming      Weston County   \n",
       "\n",
       "     CENSUS2010POP  ESTIMATESBASE2010  POPESTIMATE2010  ...  9/9/21  9/10/21  \\\n",
       "0            54571              54582            54761  ...    9145     9207   \n",
       "1           182265             182263           183121  ...   34536    34726   \n",
       "2            27457              27454            27325  ...    3243     3260   \n",
       "3            22915              22904            22858  ...    3727     3752   \n",
       "4            57322              57322            57372  ...    9048     9095   \n",
       "...            ...                ...              ...  ...     ...      ...   \n",
       "3136         43806              43806            43580  ...    6034     6111   \n",
       "3137         21294              21298            21298  ...    4587     4611   \n",
       "3138         21118              21121            21090  ...    3168     3204   \n",
       "3139          8533               8528             8531  ...    1111     1120   \n",
       "3140          7208               7208             7198  ...     824      829   \n",
       "\n",
       "      9/11/21  9/12/21  COUNTYFP  NEVER  RARELY  SOMETIMES  FREQUENTLY  ALWAYS  \n",
       "0        9246     9287      1001  0.053   0.074      0.134       0.295   0.444  \n",
       "1       34872    34950      1003  0.083   0.059      0.098       0.323   0.436  \n",
       "2        3282     3295      1005  0.067   0.121      0.120       0.201   0.491  \n",
       "3        3778     3795      1007  0.020   0.034      0.096       0.278   0.572  \n",
       "4        9161     9176      1009  0.053   0.114      0.180       0.194   0.459  \n",
       "...       ...      ...       ...    ...     ...        ...         ...     ...  \n",
       "3136     6111     6111     56037  0.061   0.295      0.230       0.146   0.268  \n",
       "3137     4611     4611     56039  0.095   0.157      0.160       0.247   0.340  \n",
       "3138     3204     3204     56041  0.098   0.278      0.154       0.207   0.264  \n",
       "3139     1120     1120     56043  0.204   0.155      0.069       0.285   0.287  \n",
       "3140      829      829     56045  0.142   0.129      0.148       0.207   0.374  \n",
       "\n",
       "[3141 rows x 638 columns]"
      ]
     },
     "execution_count": 7,
     "metadata": {},
     "output_type": "execute_result"
    }
   ],
   "source": [
    "first_merge = counties.merge(cases, how = 'inner', on = 'FIPS')\n",
    "county_data = first_merge.merge(mask_use, how = 'inner', left_on = 'FIPS', right_on = 'COUNTYFP')\n",
    "county_data"
   ]
  },
  {
   "cell_type": "code",
   "execution_count": 8,
   "id": "7a0a0793",
   "metadata": {
    "deletable": false,
    "editable": false
   },
   "outputs": [
    {
     "data": {
      "text/html": [
       "<p><strong><pre style='display: inline;'>q1e</pre></strong> passed!</p>"
      ],
      "text/plain": [
       "q1e results: All test cases passed!"
      ]
     },
     "execution_count": 8,
     "metadata": {},
     "output_type": "execute_result"
    }
   ],
   "source": [
    "grader.check(\"q1e\")"
   ]
  },
  {
   "cell_type": "markdown",
   "id": "b7bb5b84",
   "metadata": {
    "tags": []
   },
   "source": [
    "<br/><br/><br/>\n",
    "\n",
    "---\n",
    "\n",
    "<br/><br/><br/>\n",
    "\n",
    "## Question 5: Guided Supervised Modeling\n",
    "\n",
    "This section will guide you through creating a supervised learning framework that will predict the number of COVID-19 cases per capita given various COVID-19 safety protocols that have been implemented. Then, we will investigate the bias, variance, and observational noise of this framework.\n",
    "\n",
    "Note that any answer responses without the appropriate work (i.e. code or math) will be subject to additional review and will not receive any credit."
   ]
  },
  {
   "cell_type": "markdown",
   "id": "a94355a0",
   "metadata": {
    "deletable": false,
    "editable": false
   },
   "source": [
    "<!-- BEGIN QUESTION -->\n",
    "\n",
    "### Question 5a\n",
    "\n",
    "We will use county-wise mask usage data to predict the number of COVID-19 cases on September 12th, 2021. Create a visualization that shows the pairwise correlation between each combination of column in the mask usage data and the number of COVID-19 cases.\n",
    "\n",
    "*Hint*: You should be plotting 36 correlations.\n",
    "<!--\n",
    "BEGIN QUESTION\n",
    "name: q5a\n",
    "points: 3\n",
    "manual: True\n",
    "-->"
   ]
  },
  {
   "cell_type": "code",
   "execution_count": 9,
   "id": "98cbca46",
   "metadata": {},
   "outputs": [
    {
     "data": {
      "image/png": "[encoded data removed]",
      "text/plain": [
       "<Figure size 432x288 with 2 Axes>"
      ]
     },
     "metadata": {
      "needs_background": "light"
     },
     "output_type": "display_data"
    }
   ],
   "source": [
    "relevant_cols = county_data[['9/12/21', 'NEVER', 'RARELY', 'SOMETIMES', 'FREQUENTLY', 'ALWAYS']]\n",
    "sns.heatmap(relevant_cols.corr(), cmap=\"YlGnBu\", annot=True)\n",
    "plt.title('Pairwise Correlation Between Mask Usage and COVID Cases on 9/12/21');"
   ]
  },
  {
   "cell_type": "markdown",
   "id": "d8860eb5",
   "metadata": {
    "deletable": false,
    "editable": false
   },
   "source": [
    "<!-- END QUESTION -->\n",
    "\n",
    "### Question 5b\n",
    "\n",
    "Train a linear regression model to predict the number of COVID-19 cases using county-wise mask usage data for September 12, 2021. Evaluate your model's RMSE on a held-out validation set with 33% of the county-wise data. When possible, make sure to set `random_state = 42` when splitting your data into training and test sets.\n",
    "<!--\n",
    "BEGIN QUESTION\n",
    "name: q5b\n",
    "points: 5\n",
    "-->"
   ]
  },
  {
   "cell_type": "code",
   "execution_count": 10,
   "id": "5619a9a5-69a6-44dd-b8f1-31e706fcc240",
   "metadata": {},
   "outputs": [],
   "source": [
    "def rmse(predicted, actual):\n",
    "    return np.sqrt(np.mean((actual - predicted) **2))"
   ]
  },
  {
   "cell_type": "code",
   "execution_count": 11,
   "id": "c917813e",
   "metadata": {},
   "outputs": [
    {
     "data": {
      "text/plain": [
       "(27834.430707426982, 62591.13087482178)"
      ]
     },
     "execution_count": 11,
     "metadata": {},
     "output_type": "execute_result"
    }
   ],
   "source": [
    "X_q5b = county_data[['NEVER', 'RARELY', 'SOMETIMES', 'FREQUENTLY', 'ALWAYS']]\n",
    "y_q5b = county_data['9/12/21']\n",
    "\n",
    "# Make sure to set random_state = 42 and test_size = 0.33!\n",
    "X_q5b_train, X_q5b_test, y_q5b_train, y_q5b_test = train_test_split(X_q5b, y_q5b, random_state=42, test_size=0.33)\n",
    "\n",
    "linear_model = LinearRegression()\n",
    "linear_model.fit(X_q5b_train, y_q5b_train)\n",
    "\n",
    "train_predictions = linear_model.predict(X_q5b_train)\n",
    "test_predictions = linear_model.predict(X_q5b_test)\n",
    "\n",
    "train_rmse_cases = rmse(train_predictions, y_q5b_train)\n",
    "test_rmse_cases = rmse(test_predictions, y_q5b_test)\n",
    "\n",
    "train_rmse_cases, test_rmse_cases"
   ]
  },
  {
   "cell_type": "code",
   "execution_count": 12,
   "id": "6d3bcbd5",
   "metadata": {
    "deletable": false,
    "editable": false
   },
   "outputs": [
    {
     "data": {
      "text/html": [
       "<p><strong><pre style='display: inline;'>q5b</pre></strong> passed!</p>"
      ],
      "text/plain": [
       "q5b results: All test cases passed!"
      ]
     },
     "execution_count": 12,
     "metadata": {},
     "output_type": "execute_result"
    }
   ],
   "source": [
    "grader.check(\"q5b\")"
   ]
  },
  {
   "cell_type": "markdown",
   "id": "a07da3a5",
   "metadata": {
    "deletable": false,
    "editable": false
   },
   "source": [
    "<!-- BEGIN QUESTION -->\n",
    "\n",
    "### Question 5c\n",
    "\n",
    "Explain potential reasons the test set RMSE is much higher as compared to the training set RMSE.\n",
    "<!--\n",
    "BEGIN QUESTION\n",
    "name: q5c\n",
    "points: 3\n",
    "manual: True\n",
    "-->"
   ]
  },
  {
   "cell_type": "markdown",
   "id": "4fd63a7d",
   "metadata": {},
   "source": [
    "The test RMSE could be much higher as compared to the training set RMSE due to overfitting. Since we are building the model using the training data, the model could be fit too closely to the training set, resulting in a relatively low RMSE for the training set but a high RMSE for the test set. This means that the model is bad at generalizing to new data and is fit too closely to the data that it was trained on. This could be because we selected too many features for our model. It could also be because our model has too much complexity. "
   ]
  },
  {
   "cell_type": "markdown",
   "id": "5bbbb97c",
   "metadata": {
    "deletable": false,
    "editable": false
   },
   "source": [
    "<!-- END QUESTION -->\n",
    "\n",
    "### Question 5d\n",
    "\n",
    "Instead of predicting the number of COVID-19 cases, redo part (b) by predicting the number of cases per capita. Report the model's RMSE on the training and validation set.\n",
    "\n",
    "Comment on the relationship between the training and test RMSE by predicting the number of cases per capita instead of the total number of cases.\n",
    "<!--\n",
    "BEGIN QUESTION\n",
    "name: q5d\n",
    "points: 3\n",
    "-->"
   ]
  },
  {
   "cell_type": "code",
   "execution_count": 13,
   "id": "85dfd858",
   "metadata": {},
   "outputs": [
    {
     "data": {
      "text/plain": [
       "(0.03540985737823185, 0.038167903498916037)"
      ]
     },
     "execution_count": 13,
     "metadata": {},
     "output_type": "execute_result"
    }
   ],
   "source": [
    "county_data['Cases Per Capita'] = county_data['9/12/21'] / county_data['POPESTIMATE2020']\n",
    "X_q5d = county_data[['NEVER', 'RARELY', 'SOMETIMES', 'FREQUENTLY', 'ALWAYS']]\n",
    "y_q5d = county_data['Cases Per Capita']\n",
    "X_q5d_train, X_q5d_test, y_q5d_train, y_q5d_test = train_test_split(X_q5d, y_q5d, random_state=42, test_size=0.33)\n",
    "\n",
    "per_capita_model = LinearRegression()\n",
    "per_capita_model.fit(X_q5d_train, y_q5d_train)\n",
    "\n",
    "train_predictions_pc = per_capita_model.predict(X_q5d_train)\n",
    "test_predictions_pc = per_capita_model.predict(X_q5d_test)\n",
    "\n",
    "train_rmse_cpc = rmse(train_predictions_pc, y_q5d_train)\n",
    "test_rmse_cpc = rmse(test_predictions_pc, y_q5d_test)\n",
    "\n",
    "train_rmse_cpc, test_rmse_cpc"
   ]
  },
  {
   "cell_type": "code",
   "execution_count": 14,
   "id": "bdbcb703",
   "metadata": {
    "deletable": false,
    "editable": false
   },
   "outputs": [
    {
     "data": {
      "text/html": [
       "<p><strong><pre style='display: inline;'>q5d</pre></strong> passed!</p>"
      ],
      "text/plain": [
       "q5d results: All test cases passed!"
      ]
     },
     "execution_count": 14,
     "metadata": {},
     "output_type": "execute_result"
    }
   ],
   "source": [
    "grader.check(\"q5d\")"
   ]
  },
  {
   "cell_type": "markdown",
   "id": "f41cda7b-13b4-4da1-abfb-1c5de1d13308",
   "metadata": {},
   "source": [
    "The difference between the training and test RMSE is much less when we predict the number of cases per capita instead of the total number of cases. The test RMSE is only around 1.08 times higher than the training RSME when we predict the number of cases per capita, but when we predict the total number of cases the test RMSE is around 2.25 times higher than the training RMSE. This could be due to the fact that the number of cases per capita has less noise than the total number of cases, which leads to less overfitting."
   ]
  },
  {
   "cell_type": "markdown",
   "id": "5c2215f3",
   "metadata": {
    "deletable": false,
    "editable": false
   },
   "source": [
    "<!-- BEGIN QUESTION -->\n",
    "\n",
    "### Question 5e\n",
    "\n",
    "Visualize the model outputs from part (d) by plotting the predictions $\\hat{y}$ versus the observations $y$. Comment on what the plot indicates about our linear model as a comment in the code cell.\n",
    "\n",
    "<!--\n",
    "BEGIN QUESTION\n",
    "name: q5e\n",
    "points: 3\n",
    "manual: True\n",
    "-->"
   ]
  },
  {
   "cell_type": "code",
   "execution_count": 15,
   "id": "8e59258f",
   "metadata": {},
   "outputs": [
    {
     "data": {
      "image/png": "[encoded data removed]",
      "text/plain": [
       "<Figure size 432x288 with 1 Axes>"
      ]
     },
     "metadata": {
      "needs_background": "light"
     },
     "output_type": "display_data"
    }
   ],
   "source": [
    "sns.scatterplot(x=test_predictions_pc, y=y_q5d_test);\n",
    "plt.xlabel('Prediction of Cases Per Capita')\n",
    "plt.ylabel('Actual Cases Per Capita')\n",
    "plt.title('Predicted Cases Per Capita vs Actual Cases Per Capita');\n",
    "# The plot shows that the model is somewhat good in that the predictions lie between 0.10 and 0.16, and this is where the \n",
    "# majority of the actual cases per capita lie. However, the model is bad at predicting cases per capita outside of this range.\n",
    "# Also, there seems to be a fairly low correlation between predicted cases and actual cases per capita, which means that the \n",
    "# model is not too accurate."
   ]
  },
  {
   "cell_type": "markdown",
   "id": "fedb5469",
   "metadata": {
    "deletable": false,
    "editable": false
   },
   "source": [
    "<!-- END QUESTION -->\n",
    "\n",
    "### Question 5f\n",
    "\n",
    "We will investigate the bias and variance of this improved model on the test set using the bias-variance decomposition to formalize the behaviour of our model. To generate an empirical estimate of the errors and the parameters in the bias-variance decomposition, train 1000 bootstrapped models on the training dataset from part (d).\n",
    "\n",
    "<!--\n",
    "BEGIN QUESTION\n",
    "name: q5f\n",
    "points: 5\n",
    "-->"
   ]
  },
  {
   "cell_type": "code",
   "execution_count": 16,
   "id": "f7b7619b",
   "metadata": {},
   "outputs": [],
   "source": [
    "models = []\n",
    "train_df = county_data[['NEVER', 'RARELY', 'SOMETIMES', 'FREQUENTLY', 'ALWAYS', 'Cases Per Capita']]\n",
    "\n",
    "for i in range(1000):\n",
    "    sample = train_df.sample(frac=1, replace=True)\n",
    "    X_vals = sample[['NEVER', 'RARELY', 'SOMETIMES', 'FREQUENTLY', 'ALWAYS']]\n",
    "    y_vals = sample['Cases Per Capita']\n",
    "    X_q5f_train, X_q5f_test, y_q5f_train, y_q5f_test = train_test_split(X_vals, y_vals, random_state=42, test_size=0.33)\n",
    "    model = LinearRegression()\n",
    "    model.fit(X_q5f_train, y_q5f_train)\n",
    "    models.append(model)"
   ]
  },
  {
   "cell_type": "code",
   "execution_count": 17,
   "id": "5211469f",
   "metadata": {
    "deletable": false,
    "editable": false
   },
   "outputs": [
    {
     "data": {
      "text/html": [
       "<p><strong><pre style='display: inline;'>q5f</pre></strong> passed!</p>"
      ],
      "text/plain": [
       "q5f results: All test cases passed!"
      ]
     },
     "execution_count": 17,
     "metadata": {},
     "output_type": "execute_result"
    }
   ],
   "source": [
    "grader.check(\"q5f\")"
   ]
  },
  {
   "cell_type": "markdown",
   "id": "715760e0",
   "metadata": {
    "deletable": false,
    "editable": false
   },
   "source": [
    "### Question 5g\n",
    "\n",
    "To investigate the variance in our test predictions, we sample a particular test point $(x_i, y_i)$ such that $i = 100$. In other words, we will use the 100th point in the test set from part (d), `(X_q5d_test.iloc[100], y_q5d_test.iloc[100])` as the testing point.\n",
    "\n",
    "Generate predictions and square errors for this test point for all 1000 models, and calculate the *proportion* of the *expected* square error that is captured by the model prediction variance. In other words, we wish to estimate the following quantity:\n",
    "\n",
    "$$\n",
    "\\frac{\\mathrm{Var}(f_\\theta(x_i))}{\\mathrm{E}_\\theta[(y_i - f_\\theta(x_i))^2]}\n",
    "$$\n",
    "\n",
    "*Hint*: Refer to the bias-variance decomposition from lecture.\n",
    "<!--\n",
    "BEGIN QUESTION\n",
    "name: q5g\n",
    "points: 5\n",
    "-->"
   ]
  },
  {
   "cell_type": "code",
   "execution_count": 18,
   "id": "896ac261",
   "metadata": {},
   "outputs": [
    {
     "data": {
      "text/plain": [
       "0.0014757131071340514"
      ]
     },
     "execution_count": 18,
     "metadata": {},
     "output_type": "execute_result"
    }
   ],
   "source": [
    "predictions = []\n",
    "for model in models:\n",
    "    pred = model.predict(np.array(X_q5d_test.iloc[100]).reshape(1, -1))\n",
    "    predictions.append(pred)\n",
    "\n",
    "predictions = np.array(predictions)\n",
    "variance = np.var(predictions)\n",
    "expected_val = np.mean((y_q5d_test.iloc[100] - predictions)**2)\n",
    "prop_var = variance / expected_val\n",
    "prop_var"
   ]
  },
  {
   "cell_type": "code",
   "execution_count": 19,
   "id": "4b7bcc0c",
   "metadata": {
    "deletable": false,
    "editable": false
   },
   "outputs": [
    {
     "data": {
      "text/html": [
       "<p><strong><pre style='display: inline;'>q5g</pre></strong> passed!</p>"
      ],
      "text/plain": [
       "q5g results: All test cases passed!"
      ]
     },
     "execution_count": 19,
     "metadata": {},
     "output_type": "execute_result"
    }
   ],
   "source": [
    "grader.check(\"q5g\")"
   ]
  },
  {
   "cell_type": "markdown",
   "id": "0b590da8",
   "metadata": {
    "deletable": false,
    "editable": false
   },
   "source": [
    "<!-- BEGIN QUESTION -->\n",
    "\n",
    "### Question 5h\n",
    "\n",
    "Using the bias-variance decomposition, comment on how much the variance of the model contributes to the error on the sample point above. We will extend this scenario to analyze the noise term in the bias-variance decomposition, specifically with regards to this COVID-19 dataset. Consider the following:\n",
    "\n",
    "i) Assuming no observational noise (i.e. $\\epsilon = 0$), what is the *magnitude* of the empirical model bias on this sample point?\n",
    "\n",
    "ii) Clearly, there is a non-trivial amount of observational noise with COVID-19 case data simply due to how testing works and occurs. Please take a look at [this article](https://fivethirtyeight.com/features/coronavirus-case-counts-are-meaningless/) for more information. Given this infomation, explain the issues with the assumptions and result in 5h(i).\n",
    "\n",
    "iii) Recall that we typically assume $y = g(x) + \\epsilon$, where $\\epsilon \\sim \\mathcal{N}(\\mu, \\sigma)$. In the theoretical setting for bias-variance, we have assumed $\\mu = 0, \\sigma > 0$. In this practical setting, analyze and determine how $\\epsilon$ could be modeled (as a normal distribution, but you may also consider how it could be modeled as another distribution). Are there any immediate issues with the assumptions we have made in the theoretical setting where $\\mu = 0, \\sigma > 0$? What conditions on $\\mu, \\sigma$ could be more appropriate and why?\n",
    "\n",
    "iv) Does the standard bias-variance decomposition presented in lecture hold given $\\epsilon$ being normally distributed according to your answer in part (iii)? If so, please explain why. If not, explain why it does not hold and if possible, how to modify the bias-variance decomposition to make it hold (i.e. perhaps there is an additional noise term $E[\\epsilon^3]$). \n",
    "\n",
    "*Hint*: Try to express $y = g(x) + \\epsilon$ by adding and subtracting a certain quantity.\n",
    "\n",
    "v) Intuitively, is it possible to minimize the true model bias to 0 given your $\\epsilon$ formulation in part (iii)? Why or why not? Justify your answer using part (iv) if possible.\n",
    "\n",
    "vi) Consider the infinite sample case where an oracle grants you as many samples as requested, and answer the same question in part (v). Is it possible to minimize the true model bias to 0 given your $\\epsilon$ formulation in part (iii)? Conclude with an analysis of what our modeling task can approximate using $X\\theta \\approx y$ in the finite and infinite sample case.\n",
    "\n",
    "<!--\n",
    "BEGIN QUESTION\n",
    "name: q5h\n",
    "points: 24\n",
    "manual: True\n",
    "-->"
   ]
  },
  {
   "cell_type": "markdown",
   "id": "f478bb92",
   "metadata": {},
   "source": [
    "i) Assuming no observational noise, the magnitude of the empirical model bias on this sample point would be about 0.04. \n",
    "\n",
    "ii) The overarching issue with the assumptions and result in 5h(i) is how reported case counts for COVID-19 are lower than the actual number of infections, proving the existence of a nontrivial amount of observational noise in testing for COVID-19 cases. The author of this article explains a variety of ways in which COVID-19 testing is lowered by outside factors. Specifically, he addresses how \"there’s a long lag between when someone is infected, when they develop symptoms, when they get tested and when those test results are reported\", reinforcing the idea that these tests are inconsistent. Additionally, he discusses the high prevalence of incorrect results in testing, like false positives and false negatives. Furthermore, he talks about how different approaches to testing, like a robust growth in testing or a sudden, one-time increase in testing, or a high test floor with a a low test ceiling, can in fact serve as interventions that impact the results we get from COVID-19 testing. Cases will always be under reported because the false negative rate is much higher than the false positive rate, so it is very unlikely that test cases will ever be over-reported.\n",
    "\n",
    "iii) In our practical setting, some of the assumptions that we make in the theoretical setting would no longer hold. When we assume $\\mu = 0$, this is because we assume that our observational noise is 0. However, in a real world setting, our noise's mean is most likely not 0, and probably negative. This is because testing is very inconsistent and there is a high false negative rate, so cases are realistically under reported by county, so the noise is actually a negative value. This would lead to our $\\mu < 0$. Our assumption for standard deviation holds because in definition it is always positive (squared value of variance).\n",
    "\n",
    "iv) If the noise is normally distributed according to my answer in iii), our equation for bias-variance decomposition needs a slight adjustment. When we decompose bias-variance, we assume that the E(y), where $y = g(x) + \\epsilon$, is $g(x)$, and this is because we assume E($\\epsilon$) is 0. In reality, as explained above, E($\\epsilon$) is actually negative because the mean is negative, so every place where E(y) is calculated in the bias-variance decompostion must be altered from $g(x)$ to $g(x) +$ E($\\epsilon$). \n",
    "\n",
    "v) No, it would be impossible to reduce the model bias to 0 under the new assumptions presented in iii). Now that E($\\epsilon$) is non-negative, the true values of g(x) will never be exactly equal to the predicted values of y because of this non-negative amount of noise that will never cancel out (mean will never be 0).\n",
    "\n",
    "vi) No, it is still impossible. Along with the intuition in part v), mathematically model bias is calculated as $\\mathbb{E}(\\hat{Y}(x) - Y) ~ = ~ \\mathbb{E}(\\hat{Y}(x)) - \\mathbb{E}(Y) ~ = ~ \\mathbb{E}(\\hat{Y}(x)) - g(x)$. However, when the E($\\epsilon$) is no longer equivalent to 0, and the bias variance decomposition is modified as in iv), then the E(Y) in the step 2 of the equation becomes something different in step 3. Now, model bias would be $\\mathbb{E}(\\hat{Y}(x) - Y) ~ = ~ \\mathbb{E}(\\hat{Y}(x)) - \\mathbb{E}(Y) ~ = ~ \\mathbb{E}(\\hat{Y}(x)) - (g(x) + \\mathbb{E}(\\epsilon))$. With the intution laid out in part v) even unlimited amount of samples will never reduce the model bias to 0.\n",
    "\n"
   ]
  },
  {
   "cell_type": "markdown",
   "id": "653f5fdb",
   "metadata": {
    "deletable": false,
    "editable": false
   },
   "source": [
    "<!-- END QUESTION -->\n",
    "\n",
    "### Question 5i\n",
    "\n",
    "Using the bias-variance decomposition for each test point, calculate the average variance and average test mean-square error across the entire test set from part (d). In other words, estimate the following quantities:\n",
    "\n",
    "$$\n",
    "\\frac{1}{n} \\sum_i \\mathrm{Var}(f_\\theta(x_i))\n",
    "$$\n",
    "\n",
    "and\n",
    "\n",
    "$$\n",
    "\\frac{1}{n} \\sum_i \\mathrm{E}_\\theta[(y_i - f_\\theta(x_i))^2]\n",
    "$$\n",
    "\n",
    "<!--\n",
    "BEGIN QUESTION\n",
    "name: q5i\n",
    "points: 5\n",
    "manual: False\n",
    "-->"
   ]
  },
  {
   "cell_type": "code",
   "execution_count": 20,
   "id": "9a207935",
   "metadata": {},
   "outputs": [
    {
     "data": {
      "text/plain": [
       "(3.995095745444697e-06, 0.0012135592907853618)"
      ]
     },
     "execution_count": 20,
     "metadata": {},
     "output_type": "execute_result"
    }
   ],
   "source": [
    "variances = []\n",
    "mses = []\n",
    "\n",
    "for x in np.arange(len(X_q5d_test)):\n",
    "    current_round = []\n",
    "    for model in models:\n",
    "        curr_pred = model.predict([X_q5d_test.iloc[x]])\n",
    "        current_round.append(curr_pred)\n",
    "    variances.append(np.var(current_round))\n",
    "    mses.append(np.mean(y_q5d_test.iloc[x] - current_round))\n",
    "\n",
    "\n",
    "avg_var, avg_mse = np.mean(variances), np.mean(mses) \n",
    "avg_var, avg_mse"
   ]
  },
  {
   "cell_type": "code",
   "execution_count": 21,
   "id": "8243a140",
   "metadata": {
    "deletable": false,
    "editable": false
   },
   "outputs": [
    {
     "data": {
      "text/html": [
       "<p><strong><pre style='display: inline;'>q5i</pre></strong> passed!</p>"
      ],
      "text/plain": [
       "q5i results: All test cases passed!"
      ]
     },
     "execution_count": 21,
     "metadata": {},
     "output_type": "execute_result"
    }
   ],
   "source": [
    "grader.check(\"q5i\")"
   ]
  },
  {
   "cell_type": "markdown",
   "id": "15d6f530",
   "metadata": {
    "deletable": false,
    "editable": false
   },
   "source": [
    "<!-- BEGIN QUESTION -->\n",
    "\n",
    "## Question 5j\n",
    "\n",
    "Propose a solution to reducing the mean square error using the insights gained from the bias-variance decomposition above. What are the values of the quantities that have we estimated and what can be concluded about the remaining quantities? Please show all work that informs your analysis.\n",
    "\n",
    "Assume that the standard bias-variance decomposition used in lecture can be applied here.\n",
    "<!--\n",
    "BEGIN QUESTION\n",
    "name: q5j\n",
    "points: 5\n",
    "manual: True\n",
    "-->"
   ]
  },
  {
   "cell_type": "markdown",
   "id": "99bbb2f5",
   "metadata": {},
   "source": [
    "We have estimated that the variance is close to 0 and the mean squared error is around 0.00127. Since the mean squared error is equal to the bias squared plus the variance, we can conclude that the bias is around 0.04. Reducing the mean square error is the same as reducing model risk, so in order to reduce mean square error, we must reduce the formula (observation variance + model bias squared + model variance). There are a few approaches to this, and the bias variance tradeoff makes this a little harder because when we reduce variance, we subsequently increase bias, and both of these quantities are present in our formula. However, model bias is squared, so changes to bias have more of an effect on reducing mean square error. A good way to reduce the bias of the models that we have created would be to increase the model complexity by adding more features, but to be wary of overfitting so the variance doesn't increase by too much."
   ]
  },
  {
   "cell_type": "markdown",
   "id": "e6f0f9b9",
   "metadata": {
    "tags": []
   },
   "source": [
    "<!-- END QUESTION -->\n",
    "\n",
    "\n",
    "\n",
    "<br/><br/><br/>\n",
    "\n",
    "---\n",
    "\n",
    "<br/><br/><br/>\n",
    "\n",
    "## Question 6: Open Supervised Modeling\n",
    "\n",
    "We wish to extend our modeling framework from Question 5 to make it more accurate; in other words, we wish to predict $f(x)$, a supervised learning output, based on past and current quantities. \n",
    "\n",
    "This section will serve as a rough guide on creating an autoregressive modeling framework for predicting a COVID-19 quantity of your choice (i.e. deaths, cases, vaccinations).\n",
    "\n",
    "Note that if you do not wish to pursue time-based modeling of COVID-19, you may skip parts (d), (e), and (f). That being said, you are strongly encouraged to incorporate time-based modeling into your open-ended modeling design since it constitutes a large component of the provided datasets.\n",
    "\n",
    "We will ***not*** grade these below questions individually (i.e. there are no points explicitly assigned to questions 6(a) to 6(f)); they are simply guiding questions and will be graded as part of the final project report. You should make sure to answer all of the questions (that are applicable to your open-ended modeling) in some form in the report."
   ]
  },
  {
   "cell_type": "markdown",
   "id": "35ee2cef-16b4-441d-a306-7403d96b3c60",
   "metadata": {},
   "source": [
    "**Loading in the income dataset**\n",
    "The following cells will be commented out in the submission because they require an external dataset. In order to get them to work, click this link: https://www.openintro.org/data/csv/county_2019.csv to download the CSV file, then drag the CSV file into the project directory."
   ]
  },
  {
   "cell_type": "code",
   "execution_count": 23,
   "id": "85ea792c-0632-4a77-b7ed-9adc618253a9",
   "metadata": {},
   "outputs": [
    {
     "data": {
      "text/html": [
       "<div>\n",
       "<style scoped>\n",
       "    .dataframe tbody tr th:only-of-type {\n",
       "        vertical-align: middle;\n",
       "    }\n",
       "\n",
       "    .dataframe tbody tr th {\n",
       "        vertical-align: top;\n",
       "    }\n",
       "\n",
       "    .dataframe thead th {\n",
       "        text-align: right;\n",
       "    }\n",
       "</style>\n",
       "<table border=\"1\" class=\"dataframe\">\n",
       "  <thead>\n",
       "    <tr style=\"text-align: right;\">\n",
       "      <th></th>\n",
       "      <th>SUMLEV</th>\n",
       "      <th>REGION</th>\n",
       "      <th>DIVISION</th>\n",
       "      <th>STATE</th>\n",
       "      <th>COUNTY</th>\n",
       "      <th>STNAME</th>\n",
       "      <th>CTYNAME</th>\n",
       "      <th>CENSUS2010POP</th>\n",
       "      <th>ESTIMATESBASE2010</th>\n",
       "      <th>POPESTIMATE2010</th>\n",
       "      <th>...</th>\n",
       "      <th>COUNTYFP</th>\n",
       "      <th>NEVER</th>\n",
       "      <th>RARELY</th>\n",
       "      <th>SOMETIMES</th>\n",
       "      <th>FREQUENTLY</th>\n",
       "      <th>ALWAYS</th>\n",
       "      <th>Cases Per Capita</th>\n",
       "      <th>state</th>\n",
       "      <th>name</th>\n",
       "      <th>median_household_income</th>\n",
       "    </tr>\n",
       "  </thead>\n",
       "  <tbody>\n",
       "    <tr>\n",
       "      <th>0</th>\n",
       "      <td>50</td>\n",
       "      <td>3</td>\n",
       "      <td>6</td>\n",
       "      <td>1</td>\n",
       "      <td>1</td>\n",
       "      <td>Alabama</td>\n",
       "      <td>Autauga County</td>\n",
       "      <td>54571</td>\n",
       "      <td>54582</td>\n",
       "      <td>54761</td>\n",
       "      <td>...</td>\n",
       "      <td>1001</td>\n",
       "      <td>0.053</td>\n",
       "      <td>0.074</td>\n",
       "      <td>0.134</td>\n",
       "      <td>0.295</td>\n",
       "      <td>0.444</td>\n",
       "      <td>0.165411</td>\n",
       "      <td>Alabama</td>\n",
       "      <td>Autauga County</td>\n",
       "      <td>58731</td>\n",
       "    </tr>\n",
       "    <tr>\n",
       "      <th>1</th>\n",
       "      <td>50</td>\n",
       "      <td>3</td>\n",
       "      <td>6</td>\n",
       "      <td>1</td>\n",
       "      <td>3</td>\n",
       "      <td>Alabama</td>\n",
       "      <td>Baldwin County</td>\n",
       "      <td>182265</td>\n",
       "      <td>182263</td>\n",
       "      <td>183121</td>\n",
       "      <td>...</td>\n",
       "      <td>1003</td>\n",
       "      <td>0.083</td>\n",
       "      <td>0.059</td>\n",
       "      <td>0.098</td>\n",
       "      <td>0.323</td>\n",
       "      <td>0.436</td>\n",
       "      <td>0.152429</td>\n",
       "      <td>Alabama</td>\n",
       "      <td>Baldwin County</td>\n",
       "      <td>58320</td>\n",
       "    </tr>\n",
       "    <tr>\n",
       "      <th>2</th>\n",
       "      <td>50</td>\n",
       "      <td>3</td>\n",
       "      <td>6</td>\n",
       "      <td>1</td>\n",
       "      <td>5</td>\n",
       "      <td>Alabama</td>\n",
       "      <td>Barbour County</td>\n",
       "      <td>27457</td>\n",
       "      <td>27454</td>\n",
       "      <td>27325</td>\n",
       "      <td>...</td>\n",
       "      <td>1005</td>\n",
       "      <td>0.067</td>\n",
       "      <td>0.121</td>\n",
       "      <td>0.120</td>\n",
       "      <td>0.201</td>\n",
       "      <td>0.491</td>\n",
       "      <td>0.134003</td>\n",
       "      <td>Alabama</td>\n",
       "      <td>Barbour County</td>\n",
       "      <td>32525</td>\n",
       "    </tr>\n",
       "    <tr>\n",
       "      <th>3</th>\n",
       "      <td>50</td>\n",
       "      <td>3</td>\n",
       "      <td>6</td>\n",
       "      <td>1</td>\n",
       "      <td>7</td>\n",
       "      <td>Alabama</td>\n",
       "      <td>Bibb County</td>\n",
       "      <td>22915</td>\n",
       "      <td>22904</td>\n",
       "      <td>22858</td>\n",
       "      <td>...</td>\n",
       "      <td>1007</td>\n",
       "      <td>0.020</td>\n",
       "      <td>0.034</td>\n",
       "      <td>0.096</td>\n",
       "      <td>0.278</td>\n",
       "      <td>0.572</td>\n",
       "      <td>0.171440</td>\n",
       "      <td>Alabama</td>\n",
       "      <td>Bibb County</td>\n",
       "      <td>47542</td>\n",
       "    </tr>\n",
       "    <tr>\n",
       "      <th>4</th>\n",
       "      <td>50</td>\n",
       "      <td>3</td>\n",
       "      <td>6</td>\n",
       "      <td>1</td>\n",
       "      <td>9</td>\n",
       "      <td>Alabama</td>\n",
       "      <td>Blount County</td>\n",
       "      <td>57322</td>\n",
       "      <td>57322</td>\n",
       "      <td>57372</td>\n",
       "      <td>...</td>\n",
       "      <td>1009</td>\n",
       "      <td>0.053</td>\n",
       "      <td>0.114</td>\n",
       "      <td>0.180</td>\n",
       "      <td>0.194</td>\n",
       "      <td>0.459</td>\n",
       "      <td>0.158538</td>\n",
       "      <td>Alabama</td>\n",
       "      <td>Blount County</td>\n",
       "      <td>49358</td>\n",
       "    </tr>\n",
       "  </tbody>\n",
       "</table>\n",
       "<p>5 rows × 642 columns</p>\n",
       "</div>"
      ],
      "text/plain": [
       "   SUMLEV  REGION  DIVISION  STATE  COUNTY   STNAME         CTYNAME  \\\n",
       "0      50       3         6      1       1  Alabama  Autauga County   \n",
       "1      50       3         6      1       3  Alabama  Baldwin County   \n",
       "2      50       3         6      1       5  Alabama  Barbour County   \n",
       "3      50       3         6      1       7  Alabama     Bibb County   \n",
       "4      50       3         6      1       9  Alabama   Blount County   \n",
       "\n",
       "  CENSUS2010POP  ESTIMATESBASE2010  POPESTIMATE2010  ...  COUNTYFP  NEVER  \\\n",
       "0         54571              54582            54761  ...      1001  0.053   \n",
       "1        182265             182263           183121  ...      1003  0.083   \n",
       "2         27457              27454            27325  ...      1005  0.067   \n",
       "3         22915              22904            22858  ...      1007  0.020   \n",
       "4         57322              57322            57372  ...      1009  0.053   \n",
       "\n",
       "   RARELY  SOMETIMES  FREQUENTLY  ALWAYS  Cases Per Capita    state  \\\n",
       "0   0.074      0.134       0.295   0.444          0.165411  Alabama   \n",
       "1   0.059      0.098       0.323   0.436          0.152429  Alabama   \n",
       "2   0.121      0.120       0.201   0.491          0.134003  Alabama   \n",
       "3   0.034      0.096       0.278   0.572          0.171440  Alabama   \n",
       "4   0.114      0.180       0.194   0.459          0.158538  Alabama   \n",
       "\n",
       "             name  median_household_income  \n",
       "0  Autauga County                    58731  \n",
       "1  Baldwin County                    58320  \n",
       "2  Barbour County                    32525  \n",
       "3     Bibb County                    47542  \n",
       "4   Blount County                    49358  \n",
       "\n",
       "[5 rows x 642 columns]"
      ]
     },
     "execution_count": 23,
     "metadata": {},
     "output_type": "execute_result"
    }
   ],
   "source": [
    "#income_df = pd.read_csv('county_2019.csv')\n",
    "#income_df = income_df[['state', 'name', 'fips', 'median_household_income']]\n",
    "#income_df['FIPS'] = income_df['fips']\n",
    "#income_df = income_df[['state', 'name', 'FIPS', 'median_household_income']]\n",
    "#income_df.head()\n",
    "#merged_df = county_data.merge(income_df, how = 'inner', on = 'FIPS')\n",
    "#merged_df.head()\n"
   ]
  },
  {
   "cell_type": "markdown",
   "id": "b8d2e394-981a-4e86-9c34-c6fd777b015d",
   "metadata": {},
   "source": [
    "Here, we graph income in standard units vs COVID cases per capita on 9/12/21 in standard units. It is clear that there is a negative correlation between income and COVID cases per capita on 9/12/21. The theta value returned by the model is negative, meaning that there is a negative correlation. "
   ]
  },
  {
   "cell_type": "code",
   "execution_count": 24,
   "id": "60136a9a-3b29-4e80-af14-67c040c21a1a",
   "metadata": {},
   "outputs": [
    {
     "data": {
      "text/plain": [
       "array([-0.29887272])"
      ]
     },
     "execution_count": 24,
     "metadata": {},
     "output_type": "execute_result"
    },
    {
     "data": {
      "image/png": "[encoded data removed]",
      "text/plain": [
       "<Figure size 432x288 with 1 Axes>"
      ]
     },
     "metadata": {
      "needs_background": "light"
     },
     "output_type": "display_data"
    }
   ],
   "source": [
    "# merged_df['Standardized income'] = (merged_df['median_household_income'] - np.mean(merged_df['median_household_income'])) / (np.std(merged_df['median_household_income']))\n",
    "# merged_df['Standardized per capita'] = (merged_df['Cases Per Capita'] - np.mean(merged_df['Cases Per Capita'])) / (np.std(merged_df['Cases Per Capita']))\n",
    "# merged_df[['Standardized income', 'Standardized per capita']]\n",
    "# sns.scatterplot(x=merged_df['Standardized income'], y=merged_df['Standardized per capita'])\n",
    "# plt.title('Income Versus Cases on 9/12/21')\n",
    "# cases_model = LinearRegression()\n",
    "# cases_model.fit(np.array(merged_df['Standardized income']).reshape(-1, 1), merged_df['Standardized per capita']);\n",
    "# cases_model.coef_"
   ]
  },
  {
   "cell_type": "markdown",
   "id": "cb792992-8ceb-4f22-b94d-5fa76a14523a",
   "metadata": {},
   "source": [
    "Here, we graph income in standard units vs the proportion of people who always or frequently use masks in standard units. We create a new column called 'Frequent Masks' which contains the proportion of people who always or frequently use masks. It is clear that there is a positive correlation between income and the proportion of people who always or frequently use masks. The theta value returned by the model is positive, meaning that there is a positive correlation. "
   ]
  },
  {
   "cell_type": "code",
   "execution_count": 25,
   "id": "b2304843-6d7b-4da7-b893-5e07c879a5d6",
   "metadata": {},
   "outputs": [
    {
     "data": {
      "text/plain": [
       "array([0.28548713])"
      ]
     },
     "execution_count": 25,
     "metadata": {},
     "output_type": "execute_result"
    },
    {
     "data": {
      "image/png": "[encoded data removed]",
      "text/plain": [
       "<Figure size 432x288 with 1 Axes>"
      ]
     },
     "metadata": {
      "needs_background": "light"
     },
     "output_type": "display_data"
    }
   ],
   "source": [
    "# merged_df['Frequent Masks'] = merged_df['FREQUENTLY'] + merged_df['ALWAYS']\n",
    "# merged_df['Standardized Masks'] = (merged_df['Frequent Masks'] - np.mean(merged_df['Frequent Masks'])) / (np.std(merged_df['Frequent Masks']))\n",
    "# merged_df[['Standardized income', 'Frequent Masks', 'Standardized Masks']]\n",
    "# sns.scatterplot(x=merged_df['Standardized income'], y=merged_df['Standardized Masks']);\n",
    "# plt.title('Income versus Percentage of People Always or Frequently Wearing a Mask')\n",
    "# masks_model = LinearRegression()\n",
    "# masks_model.fit(np.array(merged_df['Standardized income']).reshape(-1, 1), merged_df['Standardized Masks']);\n",
    "# masks_model.coef_"
   ]
  },
  {
   "cell_type": "markdown",
   "id": "a7258b06-de13-4c6a-905d-83e6428f337a",
   "metadata": {},
   "source": [
    "Here, we create a baseline model for predicting whether or not a county is in the top 50% of counties in terms of income. This baseline model randomly predicts either a \"0\" or a \"1\", and we store these predictions in an array. We then compare these predictions to the actual values in the y_tst array, getting an accuracy of about 49%."
   ]
  },
  {
   "cell_type": "code",
   "execution_count": 30,
   "id": "2eb7d67d-e1ff-430f-9a70-9599df370a39",
   "metadata": {},
   "outputs": [
    {
     "name": "stdout",
     "output_type": "stream",
     "text": [
      "A baseline model that randomly guesses either 0 or 1 has an accuracy of 0.48966613672496023\n",
      "The same baseline model has a cross-entropy loss (log loss) of 17.626515670500606\n"
     ]
    }
   ],
   "source": [
    "# np.random.seed(41)\n",
    "# from sklearn.metrics import log_loss\n",
    "# X_df = merged_df[['Standardized Masks', 'Standardized per capita']]\n",
    "# top_50_percent = np.percentile(merged_df['Standardized income'], 50)\n",
    "# high_income = merged_df['Standardized income'] > top_50_percent\n",
    "# merged_df['High Income'] = high_income\n",
    "# X_tr_base, X_tst_base, y_tr_base, y_tst_base = train_test_split(X_df, np.array(high_income), random_state=42, test_size=0.2)\n",
    "\n",
    "# baseline_model_predictions = [np.random.randint(0, 2) for x in np.arange(len(y_tst_base))]\n",
    "# baseline_accuracy = sum([baseline_model_predictions[x] == y_tst_base[x] for x in np.arange(len(y_tst_base))]) / len(y_tst_base) \n",
    "# print(f\"A baseline model that randomly guesses either 0 or 1 has an accuracy of {baseline_accuracy}\")\n",
    "# print(f\"The same baseline model has a cross-entropy loss (log loss) of {log_loss(y_tst_base, baseline_model_predictions)}\")"
   ]
  },
  {
   "cell_type": "markdown",
   "id": "5aae9ccd-9f08-43dd-8dff-f269ee7986e9",
   "metadata": {},
   "source": [
    "Here, we are creating a new column called \"High Income\" which contains a boolean value for whether or not the county is in the top 50% of counties in terms of median household income. We then train a logistic regression model that uses the proportion of people who always or frequently use masks and the amount of COVID cases per capita on 9/12/21. The model achieves an accuracy of around 62% on the test data. While this is not particularly good, it is significantly better than a random classifier which would be expected to have an accuracy of around 50%. Using binomial CDF with 629 trials (number of test points) and probability of success 50% (for a random classifier), the chance of getting 390 or more correct classifications (62% accuracy) is less than 0.000001, showing that the proportion of people who always or frequently wear masks and cases per capita are correlated with income."
   ]
  },
  {
   "cell_type": "code",
   "execution_count": 31,
   "id": "f55b5730-4e80-4d5d-81c8-9627891d4e1a",
   "metadata": {},
   "outputs": [],
   "source": [
    "# from sklearn.linear_model import LogisticRegression"
   ]
  },
  {
   "cell_type": "code",
   "execution_count": 32,
   "id": "5644ae75-648c-49c3-ad42-450656b46487",
   "metadata": {},
   "outputs": [
    {
     "name": "stdout",
     "output_type": "stream",
     "text": [
      "Accuracy of logistic regression classifier is 0.6200317965023847\n",
      "Cross entropy loss of logistic regression classifier is 13.123769024668352\n"
     ]
    }
   ],
   "source": [
    "# X_df = merged_df[['Standardized Masks', 'Standardized per capita']]\n",
    "# high_income_classifier = LogisticRegression()\n",
    "# X_tr, X_tst, y_tr, y_tst = train_test_split(X_df, np.array(high_income), random_state=42, test_size=0.2)\n",
    "# high_income_classifier.fit(X_tr, y_tr)\n",
    "# print(f\"Accuracy of logistic regression classifier is {high_income_classifier.score(X_tst, y_tst)}\")\n",
    "# print(f\"Cross entropy loss of logistic regression classifier is {log_loss(y_tst, high_income_classifier.predict(X_tst))}\")"
   ]
  },
  {
   "cell_type": "markdown",
   "id": "95437a4e-28e1-4b32-835b-bc1a57d83b06",
   "metadata": {},
   "source": [
    "In the following cell, we will do 5-fold cross validation of the Logistic Regression model that we created above. The accuracy ranges between 0.59 and 0.63 when we do cross validation."
   ]
  },
  {
   "cell_type": "code",
   "execution_count": 33,
   "id": "40ff86fc-2d85-4489-a2f4-a503d02f02c2",
   "metadata": {},
   "outputs": [],
   "source": [
    "# from sklearn.model_selection import cross_val_score"
   ]
  },
  {
   "cell_type": "code",
   "execution_count": 34,
   "id": "765c3574-f704-4a42-8d12-e96b2d38586d",
   "metadata": {},
   "outputs": [
    {
     "name": "stdout",
     "output_type": "stream",
     "text": [
      "When doing 5-fold cross validation for our logistic regression model, our 5 accuracies are:  0.6163021868787276, 0.6003976143141153, 0.6095617529880478, 0.5956175298804781, 0.6254980079681275.\n"
     ]
    }
   ],
   "source": [
    "# logistic_regression = LogisticRegression()\n",
    "# scores = cross_val_score(logistic_regression, X_tr, y_tr, cv=5)\n",
    "# print(f\"When doing 5-fold cross validation for our logistic regression model, our 5 accuracies are:  {scores[0]}, {scores[1]}, {scores[2]}, {scores[3]}, {scores[4]}.\")"
   ]
  },
  {
   "cell_type": "markdown",
   "id": "d2f427ed-5850-4109-8476-4ceebc185928",
   "metadata": {},
   "source": [
    "The following method classifies a prediction as either a true positive, false positive, false negative, or true negative and calculates the precision and recall. The cell after this one graphs the test set and shows which points are true positives, false positives, false negatives, or true negatives. The cell after that does the same thing but with the baseline model."
   ]
  },
  {
   "cell_type": "code",
   "execution_count": 35,
   "id": "a5c5568c-6334-439e-984e-a2cfd8169997",
   "metadata": {},
   "outputs": [],
   "source": [
    "# def scorer(predicted, actual):\n",
    "#     prediction_type = []\n",
    "#     TP = 0\n",
    "#     FP = 0\n",
    "#     FN = 0\n",
    "#     TN = 0\n",
    "#     for i in range(len(predicted)):\n",
    "#         if predicted[i] == True and actual[i] == True:\n",
    "#             prediction_type.append('TP')\n",
    "#             TP += 1\n",
    "#         elif predicted[i] == True and actual[i] == False:\n",
    "#             prediction_type.append('FP')\n",
    "#             FP += 1\n",
    "#         elif predicted[i] == False and actual[i] == True:\n",
    "#             prediction_type.append('FN')\n",
    "#             FN += 1\n",
    "#         elif predicted[i] == False and actual[i] == False:\n",
    "#             prediction_type.append('TN')\n",
    "#             TN += 1\n",
    "#     precision = TP / (TP + FP)\n",
    "#     recall = TP / (TP + FN)\n",
    "#     print('Precision = ', precision)\n",
    "#     print('Recall = ', recall)\n",
    "#     return prediction_type"
   ]
  },
  {
   "cell_type": "code",
   "execution_count": 36,
   "id": "75a78d86-fb19-4866-a5f0-b1d73f1ddbe5",
   "metadata": {},
   "outputs": [
    {
     "name": "stdout",
     "output_type": "stream",
     "text": [
      "Precision =  0.6413793103448275\n",
      "Recall =  0.5794392523364486\n"
     ]
    },
    {
     "data": {
      "text/plain": [
       "Text(0.5, 1.0, 'Each Data Entry in the Testing Array Classified by Improved Model')"
      ]
     },
     "execution_count": 36,
     "metadata": {},
     "output_type": "execute_result"
    },
    {
     "data": {
      "image/png": "[encoded data removed]",
      "text/plain": [
       "<Figure size 432x288 with 1 Axes>"
      ]
     },
     "metadata": {
      "needs_background": "light"
     },
     "output_type": "display_data"
    }
   ],
   "source": [
    "# predictions = high_income_classifier.predict(X_tst)\n",
    "# X_tst['Prediction Type'] = scorer(predictions, y_tst)\n",
    "# sns.scatterplot(data=X_tst, x='Standardized Masks', y='Standardized per capita', hue='Prediction Type');\n",
    "# plt.title('Each Data Entry in the Testing Array Classified by Improved Model')"
   ]
  },
  {
   "cell_type": "code",
   "execution_count": 37,
   "id": "5853863f-49f3-405f-a2d9-311061ea39c4",
   "metadata": {},
   "outputs": [
    {
     "name": "stdout",
     "output_type": "stream",
     "text": [
      "Precision =  0.5\n",
      "Recall =  0.5109034267912772\n"
     ]
    },
    {
     "data": {
      "text/plain": [
       "Text(0.5, 1.0, 'Each Data Entry in the Testing Array Classified by Baseline Model')"
      ]
     },
     "execution_count": 37,
     "metadata": {},
     "output_type": "execute_result"
    },
    {
     "data": {
      "image/png": "[encoded data removed]",
      "text/plain": [
       "<Figure size 432x288 with 1 Axes>"
      ]
     },
     "metadata": {
      "needs_background": "light"
     },
     "output_type": "display_data"
    }
   ],
   "source": [
    "# X_tst_base['Prediction Type'] = scorer(baseline_model_predictions, y_tst_base)\n",
    "# sns.scatterplot(data=X_tst_base, x='Standardized Masks', y='Standardized per capita', hue='Prediction Type');\n",
    "# plt.title('Each Data Entry in the Testing Array Classified by Baseline Model')"
   ]
  },
  {
   "cell_type": "markdown",
   "id": "151dd381-0c81-4ae2-9685-15b0c1313c1c",
   "metadata": {},
   "source": [
    "Here, we use built-in sklearn methods to make a confusion matrix for the logisitic regression classifier, then visualize the four catagories of the confusion matrix in a heatmap. The next cell below does the same thing but with the baseline model"
   ]
  },
  {
   "cell_type": "code",
   "execution_count": 38,
   "id": "d089fe37-3647-4b4b-aa25-fdde684a5fc4",
   "metadata": {},
   "outputs": [
    {
     "data": {
      "text/plain": [
       "Text(0.5, 1.0, 'Heat Map of All TF, TP, FN, FP for Improved Model')"
      ]
     },
     "execution_count": 38,
     "metadata": {},
     "output_type": "execute_result"
    },
    {
     "data": {
      "image/png": "[encoded data removed]",
      "text/plain": [
       "<Figure size 432x288 with 2 Axes>"
      ]
     },
     "metadata": {
      "needs_background": "light"
     },
     "output_type": "display_data"
    }
   ],
   "source": [
    "# from sklearn.metrics import confusion_matrix\n",
    "\n",
    "# my_cm = confusion_matrix(y_tst, predictions)\n",
    "# sns.heatmap(my_cm, annot = True, fmt = 'd', cmap = 'Blues', annot_kws = {'size': 16})\n",
    "# plt.xlabel('Predicted')\n",
    "# plt.ylabel('Actual')\n",
    "# plt.title('Heat Map of All TF, TP, FN, FP for Improved Model')"
   ]
  },
  {
   "cell_type": "code",
   "execution_count": 39,
   "id": "bb531ba4-20da-4c10-b033-11ec91b68e73",
   "metadata": {},
   "outputs": [
    {
     "data": {
      "text/plain": [
       "Text(0.5, 1.0, 'Heat Map of All TF, TP, FN, FP for Baseline Model')"
      ]
     },
     "execution_count": 39,
     "metadata": {},
     "output_type": "execute_result"
    },
    {
     "data": {
      "image/png": "[encoded data removed]",
      "text/plain": [
       "<Figure size 432x288 with 2 Axes>"
      ]
     },
     "metadata": {
      "needs_background": "light"
     },
     "output_type": "display_data"
    }
   ],
   "source": [
    "# base_cm = confusion_matrix(y_tst, baseline_model_predictions)\n",
    "# sns.heatmap(base_cm, annot = True, fmt = 'd', cmap = 'Blues', annot_kws = {'size': 16})\n",
    "# plt.xlabel('Predicted')\n",
    "# plt.ylabel('Actual')\n",
    "# plt.title('Heat Map of All TF, TP, FN, FP for Baseline Model')"
   ]
  },
  {
   "cell_type": "markdown",
   "id": "05e74474-7054-4e13-b6f9-7b3612168905",
   "metadata": {},
   "source": [
    "Here, we using the bootstrap method to construct a 95% confidence interval for the coefficient, theta, for the Income vs Cases regression. The entire confidence interval is negative and does not contain 0, so we can conclude that income is negatively correlated with the number of COVID cases per capita on 9/12/21."
   ]
  },
  {
   "cell_type": "code",
   "execution_count": 40,
   "id": "94ef0cdf-907a-4988-97ed-05f6b887d911",
   "metadata": {},
   "outputs": [
    {
     "name": "stdout",
     "output_type": "stream",
     "text": [
      "95% confidence interval of theta for Income vs Cases regression: (-0.34402795470655234, -0.25853670559188174)\n"
     ]
    }
   ],
   "source": [
    "# bootstrap_copy = merged_df.copy()\n",
    "# coeffs = []\n",
    "# for i in range(1000):\n",
    "#     sample_df = bootstrap_copy.sample(frac=1, replace=True)\n",
    "#     X_values = sample_df[['Standardized per capita']]\n",
    "#     y_values = sample_df['Standardized income']\n",
    "#     X_tr, X_tst, y_tr, y_tst = train_test_split(X_values, y_values, random_state=42, test_size=0.2)\n",
    "#     m = LinearRegression()\n",
    "#     m.fit(X_tr, y_tr)\n",
    "#     coeffs.append(m.coef_[0])\n",
    "\n",
    "# print('95% confidence interval of theta for Income vs Cases regression:', (np.percentile(coeffs, 2.5), np.percentile(coeffs, 97.5)))"
   ]
  },
  {
   "cell_type": "markdown",
   "id": "5e36b317-f7ad-422e-84a1-151564188fef",
   "metadata": {},
   "source": [
    "In the following cell, we are using the bootstrap method to construct a 95% confidence interval for the coefficient, theta, for the Income vs Frequent + Always Mask Users Regression. The entire confidence interval is positive and does not contain 0, so we can conclude that income is positively correlated with the proportion of people who frequently or always wear a mask. "
   ]
  },
  {
   "cell_type": "code",
   "execution_count": 41,
   "id": "87893c97-e13f-4947-826a-c41d5362df5b",
   "metadata": {},
   "outputs": [
    {
     "name": "stdout",
     "output_type": "stream",
     "text": [
      "95% confidence interval of theta for Income vs Masks regression: (0.24602790721400372, 0.325616361335495)\n"
     ]
    }
   ],
   "source": [
    "# bootstrap_copy = merged_df.copy()\n",
    "# coeffs = []\n",
    "# for i in range(1000):\n",
    "#     sample_df = bootstrap_copy.sample(frac=1, replace=True)\n",
    "#     X_values = sample_df[['Standardized Masks']]\n",
    "#     y_values = sample_df['Standardized income']\n",
    "#     X_tr, X_tst, y_tr, y_tst = train_test_split(X_values, y_values, random_state=42, test_size=0.2)\n",
    "#     m = LinearRegression()\n",
    "#     m.fit(X_tr, y_tr)\n",
    "#     coeffs.append(m.coef_[0])\n",
    "\n",
    "# print('95% confidence interval of theta for Income vs Masks regression:', (np.percentile(coeffs, 2.5), np.percentile(coeffs, 97.5)))"
   ]
  },
  {
   "cell_type": "markdown",
   "id": "129ec1e5-ce10-4548-99e6-4eaf87e41847",
   "metadata": {},
   "source": [
    "Here, we are using the bootstrap method to construct a 95% confidence interval for the 2 coefficients for the logistic regression model described earlier. The coefficient corresponding to mask usage has a confidence interval that is completely positive, showing that the frequency of people who frequently or always wear masks is positively correlated with whether or not a county is high income. The coefficient corresponding to cases per capita on 9/12/21 has a confidence interval that is completely negative, showing that the cases per capita on 9/12/21 is negatively correlated with whether or not a county is high income. "
   ]
  },
  {
   "cell_type": "code",
   "execution_count": 42,
   "id": "345199b9-948e-4d65-acfc-ebcc14b80ba7",
   "metadata": {},
   "outputs": [
    {
     "name": "stdout",
     "output_type": "stream",
     "text": [
      "95% confidence interval of theta 1 (mask usage) for logistic regression: (0.1825255281892261, 0.35989768455344134)\n",
      "95% confidence interval of theta 2 (cases per capita) for logistic regression: (-0.5255675139367489, -0.3496968387615892)\n"
     ]
    }
   ],
   "source": [
    "# bootstrap_copy = merged_df.copy()\n",
    "# coeff_1 = []\n",
    "# coeff_2 = []\n",
    "# for i in range(1000):\n",
    "#     sample_df = bootstrap_copy.sample(frac=1, replace=True)\n",
    "#     X_values = sample_df[['Standardized Masks', 'Standardized per capita']]\n",
    "#     y_values = sample_df['High Income']\n",
    "#     X_tr, X_tst, y_tr, y_tst = train_test_split(X_values, y_values, random_state=42, test_size=0.2)\n",
    "#     m = LogisticRegression()\n",
    "#     m.fit(X_tr, y_tr)\n",
    "#     coeff_1.append(m.coef_[0][0])\n",
    "#     coeff_2.append(m.coef_[0][1])\n",
    "\n",
    "# print('95% confidence interval of theta 1 (mask usage) for logistic regression:', (np.percentile(coeff_1, 2.5), np.percentile(coeff_1, 97.5)))\n",
    "# print('95% confidence interval of theta 2 (cases per capita) for logistic regression:', (np.percentile(coeff_2, 2.5), np.percentile(coeff_2, 97.5)))"
   ]
  },
  {
   "cell_type": "markdown",
   "id": "b5f28af3-9e19-4573-8c67-d33221c40f5f",
   "metadata": {},
   "source": [
    "Overall, based on the results of the previous three cells in which we use the bootstrap method, we can reject the null hypothesis that all coefficients are equal to zero.  We can conclude that the median household income in a county is positively correlated with the proportion of people in that county that frequently or always use a mask, and we can conclude that the the median household income in a county is negatively correlated with the COVID cases per capita in that county."
   ]
  },
  {
   "cell_type": "markdown",
   "id": "4b1e3e64",
   "metadata": {
    "deletable": false,
    "editable": false
   },
   "source": [
    "<!-- BEGIN QUESTION -->\n",
    "\n",
    "### Question 6a\n",
    "\n",
    "Train a baseline model where $f$ is the model described in Question 0a and $x$ is a quantity of *your* choice. Note that you may used *any* supervised learning approach we have studied; you are not limited to a linear model.\n",
    "\n",
    "<!--\n",
    "BEGIN QUESTION\n",
    "name: q6a\n",
    "points: 0\n",
    "manual: True\n",
    "-->"
   ]
  },
  {
   "cell_type": "code",
   "execution_count": null,
   "id": "85819006",
   "metadata": {},
   "outputs": [],
   "source": [
    "..."
   ]
  },
  {
   "cell_type": "markdown",
   "id": "1a3b8a40",
   "metadata": {
    "deletable": false,
    "editable": false
   },
   "source": [
    "<!-- END QUESTION -->\n",
    "\n",
    "<!-- BEGIN QUESTION -->\n",
    "\n",
    "### Question 6b\n",
    "\n",
    "Improve your model from part (a). Specify the supervised model you choose and write $f(x)$ as a function of the chosen features and parameters in your model. Justify why you chose these features and how you expect they will correlate with the output you wish to predict.\n",
    "\n",
    "<!--\n",
    "BEGIN QUESTION\n",
    "name: q6b\n",
    "points: 0\n",
    "manual: True\n",
    "-->"
   ]
  },
  {
   "cell_type": "code",
   "execution_count": null,
   "id": "0ab91b78",
   "metadata": {},
   "outputs": [],
   "source": [
    "..."
   ]
  },
  {
   "cell_type": "markdown",
   "id": "f28de6f8",
   "metadata": {
    "deletable": false,
    "editable": false
   },
   "source": [
    "<!-- END QUESTION -->\n",
    "\n",
    "<!-- BEGIN QUESTION -->\n",
    "\n",
    "### Question 6c\n",
    "\n",
    "If applicable, write an equation or rule for the prediction function $f(x)$; if this is infeasible, make sure to visualize your model parameters in some way. Interpret your improved model's optimal parameters (*hint*: refer to 1aiii), and compare these parameters to those of the baseline model. Comment on whether the parameters follow physical intuition given the nature of the prediction task.\n",
    "\n",
    "For example, if you chose to use a decision tree, you may interpret the generated rules.\n",
    " \n",
    "<!--\n",
    "BEGIN QUESTION\n",
    "name: q6c\n",
    "points: 0\n",
    "manual: True\n",
    "-->"
   ]
  },
  {
   "cell_type": "markdown",
   "id": "df0defa5",
   "metadata": {},
   "source": [
    "_Type your answer here, replacing this text._"
   ]
  },
  {
   "cell_type": "markdown",
   "id": "16b89e46",
   "metadata": {
    "deletable": false,
    "editable": false
   },
   "source": [
    "<!-- END QUESTION -->\n",
    "\n",
    "<!-- BEGIN QUESTION -->\n",
    "\n",
    "### Question 6d\n",
    "\n",
    "Discuss your improved model's performance on both short-term and long-term time scales using a metric of your choice (*hint:* we're using an autoregressive model). In other words, given $x_t$, we wish to predict $\\hat{x}_{t+k}$, and plot the error of these predictions for two $k$ values of your choice. You may use any reasonable interpretation of short-term and long-term predictions; an initial suggestion is to use 2-day predictions and 2-week predictions.\n",
    "\n",
    "Compare the performance of this model on both timescales with the baseline model.\n",
    "\n",
    "<!--\n",
    "BEGIN QUESTION\n",
    "name: q6d\n",
    "points: 0\n",
    "manual: True\n",
    "-->"
   ]
  },
  {
   "cell_type": "code",
   "execution_count": null,
   "id": "605e7549",
   "metadata": {},
   "outputs": [],
   "source": [
    "..."
   ]
  },
  {
   "cell_type": "markdown",
   "id": "74ba1ff2",
   "metadata": {
    "deletable": false,
    "editable": false
   },
   "source": [
    "<!-- END QUESTION -->\n",
    "\n",
    "<!-- BEGIN QUESTION -->\n",
    "\n",
    "### Question 6e\n",
    "\n",
    "Plot and describe the error for both the baseline and improved models as a function of time. In other words, given $x_t$, we wish to predict $\\hat{x}_{t+k}$, and plot the error of these predictions for all $k$.\n",
    "\n",
    "Consider how and why the performance of the model degrades as a function of time using the rate of growth in the error.\n",
    "\n",
    "<!--\n",
    "BEGIN QUESTION\n",
    "name: q6e\n",
    "points: 0\n",
    "manual: True\n",
    "-->"
   ]
  },
  {
   "cell_type": "code",
   "execution_count": null,
   "id": "9fd1992b",
   "metadata": {},
   "outputs": [],
   "source": [
    "..."
   ]
  },
  {
   "cell_type": "markdown",
   "id": "526caa49",
   "metadata": {
    "deletable": false,
    "editable": false
   },
   "source": [
    "<!-- END QUESTION -->\n",
    "\n",
    "<!-- BEGIN QUESTION -->\n",
    "\n",
    "### Question 6f\n",
    "\n",
    "Consider a modification to the model $f(x) = x_{t+1}$ where instead $f(x) = [x_{t+1}, x_{t+2}, ..., x_{t+m}]$ for some $m > 1$. In other words, using the features $x$ that contain past and present quantities, our model *explicitly* predicts values for $m$ days in the future rather than simply the next day (i.e. $m = 1$). \n",
    "\n",
    "Train the baseline and improved model using $m = 5$ and $m = 10$. Evaluate and visualize the predictive accuracy of both models.\n",
    "\n",
    "<!--\n",
    "BEGIN QUESTION\n",
    "name: q6f\n",
    "points: 0\n",
    "manual: True\n",
    "-->"
   ]
  },
  {
   "cell_type": "code",
   "execution_count": null,
   "id": "535e290f",
   "metadata": {},
   "outputs": [],
   "source": [
    "..."
   ]
  },
  {
   "cell_type": "markdown",
   "id": "cb8bc5f0",
   "metadata": {
    "deletable": false,
    "editable": false
   },
   "source": [
    "---\n",
    "\n",
    "To double-check your work, the cell below will rerun all of the autograder tests."
   ]
  },
  {
   "cell_type": "code",
   "execution_count": 47,
   "id": "dd82aee6",
   "metadata": {
    "deletable": false,
    "editable": false
   },
   "outputs": [
    {
     "data": {
      "text/plain": [
       "q1a results: All test cases passed!\n",
       "\n",
       "q1d results: All test cases passed!\n",
       "\n",
       "q1e results: All test cases passed!\n",
       "\n",
       "q5b results: All test cases passed!\n",
       "\n",
       "q5d results: All test cases passed!\n",
       "\n",
       "q5f results: All test cases passed!\n",
       "\n",
       "q5g results: All test cases passed!\n",
       "\n",
       "q5i results: All test cases passed!"
      ]
     },
     "execution_count": 47,
     "metadata": {},
     "output_type": "execute_result"
    }
   ],
   "source": [
    "grader.check_all()"
   ]
  },
  {
   "cell_type": "markdown",
   "id": "7ecfb50d",
   "metadata": {
    "deletable": false,
    "editable": false
   },
   "source": [
    "## Submission\n",
    "\n",
    "Make sure you have run all cells in your notebook in order before running the cell below, so that all images/graphs appear in the output. The cell below will generate a zip file for you to submit. **Please save before exporting!**"
   ]
  },
  {
   "cell_type": "code",
   "execution_count": 2,
   "id": "febbeabf",
   "metadata": {
    "deletable": false,
    "editable": false
   },
   "outputs": [
    {
     "data": {
      "text/html": [
       "\n",
       "            <p>Your submission has been exported. Click <a href=\"covid_part2_2021_12_13T15_05_53_120858.zip\" download=\"covid_part2_2021_12_13T15_05_53_120858.zip\" target=\"_blank\">here</a>\n",
       "            to download the zip file.</p>\n",
       "            "
      ],
      "text/plain": [
       "<IPython.core.display.HTML object>"
      ]
     },
     "metadata": {},
     "output_type": "display_data"
    }
   ],
   "source": [
    "# Save your notebook first, then run this cell to export your submission.\n",
    "grader.export()"
   ]
  },
  {
   "cell_type": "markdown",
   "id": "fd5501bd",
   "metadata": {},
   "source": [
    " "
   ]
  }
 ],
 "metadata": {
  "kernelspec": {
   "display_name": "Python 3 (ipykernel)",
   "language": "python",
   "name": "python3"
  },
  "language_info": {
   "codemirror_mode": {
    "name": "ipython",
    "version": 3
   },
   "file_extension": ".py",
   "mimetype": "text/x-python",
   "name": "python",
   "nbconvert_exporter": "python",
   "pygments_lexer": "ipython3",
   "version": "3.9.7"
  }
 },
 "nbformat": 4,
 "nbformat_minor": 5
}
